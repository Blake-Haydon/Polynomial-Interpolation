{
 "cells": [
  {
   "cell_type": "code",
   "execution_count": 5,
   "metadata": {},
   "outputs": [],
   "source": [
    "import galois\n",
    "from bilinear_interpolation import BilinearInterpolationPoly\n",
    "from dfa import LookupDFA, PolyDFA"
   ]
  },
  {
   "cell_type": "code",
   "execution_count": 6,
   "metadata": {},
   "outputs": [],
   "source": [
    "PRIME = 65521\n",
    "GF = galois.GF(PRIME)\n",
    "\n",
    "lookupDFA = LookupDFA(\"dfa/dfa_a.csv\")\n",
    "polyDFA = PolyDFA(GF, \"dfa/dfa_a.csv\")"
   ]
  },
  {
   "cell_type": "code",
   "execution_count": 7,
   "metadata": {},
   "outputs": [
    {
     "name": "stdout",
     "output_type": "stream",
     "text": [
      "True\n",
      "True\n",
      "True\n",
      "False\n"
     ]
    }
   ],
   "source": [
    "lookupDFA.transition(0)\n",
    "polyDFA.transition(0)\n",
    "print(lookupDFA.current_state() == polyDFA.current_state())\n",
    "\n",
    "lookupDFA.transition(97)\n",
    "polyDFA.transition(97)\n",
    "print(lookupDFA.current_state() == polyDFA.current_state())\n",
    "\n",
    "lookupDFA.transition(97)\n",
    "polyDFA.transition(97)\n",
    "print(lookupDFA.current_state() == polyDFA.current_state())\n",
    "\n",
    "# FIXME: accepting states are not handled correctly. Once in an accepting state,\n",
    "# we can't transition to another state. This is not handled correctly in the\n",
    "# polynomial implementation.\n",
    "lookupDFA.transition(97)\n",
    "polyDFA.transition(97)\n",
    "print(lookupDFA.current_state() == polyDFA.current_state())"
   ]
  }
 ],
 "metadata": {
  "kernelspec": {
   "display_name": "Python 3",
   "language": "python",
   "name": "python3"
  },
  "language_info": {
   "codemirror_mode": {
    "name": "ipython",
    "version": 3
   },
   "file_extension": ".py",
   "mimetype": "text/x-python",
   "name": "python",
   "nbconvert_exporter": "python",
   "pygments_lexer": "ipython3",
   "version": "3.10.4"
  },
  "orig_nbformat": 4,
  "vscode": {
   "interpreter": {
    "hash": "2ab98c4b59af728aa8bd9922870b996a7fc5861c87b81242319b92eec59b5fef"
   }
  }
 },
 "nbformat": 4,
 "nbformat_minor": 2
}
