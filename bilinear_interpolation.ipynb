{
 "cells": [
  {
   "cell_type": "code",
   "execution_count": 1,
   "metadata": {},
   "outputs": [],
   "source": [
    "import galois\n",
    "from bilinear_interpolation import BilinearInterpolationPoly"
   ]
  },
  {
   "attachments": {},
   "cell_type": "markdown",
   "metadata": {},
   "source": [
    "# Bilinear Interpolation\n",
    "\n",
    "<!-- \n",
    "# https://en.wikipedia.org/wiki/Bilinear_interpolation\n",
    "# https://en.wikipedia.org/wiki/Multilinear_polynomial \n",
    "-->\n"
   ]
  },
  {
   "cell_type": "code",
   "execution_count": 2,
   "metadata": {},
   "outputs": [
    {
     "name": "stdout",
     "output_type": "stream",
     "text": [
      "f(x, y) = 65001 + 44133y^1 + 43611y^2 + 241x^1 + 21629x^1y^1 + 21873x^1y^2\n"
     ]
    }
   ],
   "source": [
    "# Create a Galois field\n",
    "PRIME = 65521\n",
    "GF = galois.GF(PRIME)\n",
    "\n",
    "# Create some random points\n",
    "x = GF([1, 2, 1, 2, 1, 2])\n",
    "y = GF([5, 5, 2, 2, 3, 3])\n",
    "z = GF([1, 2, 55, 4, 111, 12])\n",
    "\n",
    "# Generate the polynomial\n",
    "poly = BilinearInterpolationPoly(GF, x, y, z)\n",
    "\n",
    "# Check that the polynomial correctly interpolates the given points\n",
    "for i in range(len(z)):\n",
    "    assert (poly.evaluate(x[i], y[i]) == z[i]), \"Interpolation failed\"\n",
    "\n",
    "# Print the polynomial in a readable format\n",
    "print(poly)"
   ]
  }
 ],
 "metadata": {
  "kernelspec": {
   "display_name": "Python 3",
   "language": "python",
   "name": "python3"
  },
  "language_info": {
   "codemirror_mode": {
    "name": "ipython",
    "version": 3
   },
   "file_extension": ".py",
   "mimetype": "text/x-python",
   "name": "python",
   "nbconvert_exporter": "python",
   "pygments_lexer": "ipython3",
   "version": "3.10.4"
  },
  "orig_nbformat": 4,
  "vscode": {
   "interpreter": {
    "hash": "2ab98c4b59af728aa8bd9922870b996a7fc5861c87b81242319b92eec59b5fef"
   }
  }
 },
 "nbformat": 4,
 "nbformat_minor": 2
}
