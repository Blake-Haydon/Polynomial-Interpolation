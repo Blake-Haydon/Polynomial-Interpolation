{
 "cells": [
  {
   "cell_type": "code",
   "execution_count": 1,
   "metadata": {},
   "outputs": [],
   "source": [
    "import galois\n",
    "import numpy as np"
   ]
  },
  {
   "attachments": {},
   "cell_type": "markdown",
   "metadata": {},
   "source": [
    "# Lagrange Interpolation"
   ]
  },
  {
   "attachments": {},
   "cell_type": "markdown",
   "metadata": {},
   "source": [
    "## Computation of the Lagrange Basis\n",
    "\n",
    "The lagrange basis is defined as:\n",
    "\n",
    "$$L(x) = \\prod_{j \\neq k} \\frac{x - x_j}{x_k - x_j}$$\n",
    "\n",
    "$x_j$ are the nodes of the polynomial and $x$ is the point where we want to evaluate the polynomial.\n",
    "\n",
    "For example, if we have 3 nodes $x_0, x_1, x_2$ and we want to evaluate the lagrange basis at $x_1$, we have:\n",
    "\n",
    "$$L(x_0) = 0$$\n",
    "$$L(x_1) = 1$$\n",
    "$$L(x_2) = 0$$\n",
    "\n",
    "We can see that the output is 1 at $x_1$ and 0 at the other nodes."
   ]
  },
  {
   "cell_type": "code",
   "execution_count": 2,
   "metadata": {},
   "outputs": [],
   "source": [
    "def lagrange_basis(x: galois.FieldArray, j: int, GF: galois.GF):\n",
    "    \"\"\"\n",
    "    Compute the Lagrange basis polynomial. \n",
    "    All x positions have an output value of 0 apart from the jth position which has an output value of 1.\n",
    "\n",
    "    Parameters\n",
    "    ----------\n",
    "    x : galois.FieldArray\n",
    "        The points to interpolate.\n",
    "    j : int\n",
    "        The index of the point to interpolate.\n",
    "    GF : galois.GF\n",
    "        The Galois field.\n",
    "    \"\"\"\n",
    "    \n",
    "    total = galois.Poly([1], field=GF)\n",
    "    for k in range(len(x)):\n",
    "        if k != j:\n",
    "            top = galois.Poly([1, -x[k]], field=GF)\n",
    "            bottom = galois.Poly([x[j] - x[k]], field=GF)\n",
    "            total *= (top // bottom)\n",
    "\n",
    "    return total"
   ]
  },
  {
   "attachments": {},
   "cell_type": "markdown",
   "metadata": {},
   "source": [
    "### Example using the Lagrange basis function"
   ]
  },
  {
   "cell_type": "code",
   "execution_count": 3,
   "metadata": {},
   "outputs": [
    {
     "name": "stdout",
     "output_type": "stream",
     "text": [
      "Evaluation of x^4 + 5x^3 + 5x^2 + 4x at all x values:\n",
      "(x=0, y=0)\n",
      "(x=1, y=1) <----\n",
      "(x=2, y=0)\n",
      "(x=3, y=0)\n",
      "(x=4, y=0)\n"
     ]
    }
   ],
   "source": [
    "GF = galois.GF(7)\n",
    "x = GF([0, 1, 2, 3, 4])\n",
    "y = GF([3, 4, 5, 6, 0])\n",
    "\n",
    "# Should be 0 every where except at x=1 where y=1\n",
    "poly_1 = lagrange_basis(x, 1, GF)\n",
    "print(f\"Evaluation of {poly_1} at all x values:\")\n",
    "for i in x:\n",
    "    if poly_1(i) == GF(1): \n",
    "        print(f\"(x={i}, y={poly_1(i)}) <----\")\n",
    "    else: \n",
    "        print(f\"(x={i}, y={poly_1(i)})\")"
   ]
  },
  {
   "attachments": {},
   "cell_type": "markdown",
   "metadata": {},
   "source": [
    "## Computation of Interpolated Polynomial\n",
    "\n",
    "The interpolated polynomial is defined as:\n",
    "\n",
    "$$p(x) = \\sum_{j = 0}^{n} y_j (\\prod_{j \\neq k} \\frac{x - x_j}{x_k - x_j}) = \\sum_{j = 0}^{n} y_j L(x) $$\n",
    "\n",
    "We simply just multiply the lagrange basis by the values of the nodes. Because the lagrange basis is 0 at all nodes except one, we can see that the output of the polynomial is the value of the node at the corresponding node."
   ]
  },
  {
   "cell_type": "code",
   "execution_count": 4,
   "metadata": {},
   "outputs": [],
   "source": [
    "def lagrange_interpolation(x: galois.FieldArray, y: galois.FieldArray, GF: galois.GF):\n",
    "    \"\"\"\n",
    "    Compute the Lagrange interpolation polynomial.\n",
    "\n",
    "    Parameters\n",
    "    ----------\n",
    "    x : galois.FieldArray\n",
    "        The points to interpolate.\n",
    "    y : galois.FieldArray\n",
    "        The values of the points to interpolate.\n",
    "    GF : galois.GF\n",
    "        The Galois field.\n",
    "    \"\"\"\n",
    "    assert len(x) == len(y), \"x and y must have the same length.\"\n",
    "\n",
    "    total = galois.Poly([0], field=GF)\n",
    "    for j in range(len(x)):\n",
    "        total += y[j] * lagrange_basis(x, j, GF)\n",
    "\n",
    "    return total"
   ]
  },
  {
   "attachments": {},
   "cell_type": "markdown",
   "metadata": {},
   "source": [
    "### Example calculating the interpolated polynomial"
   ]
  },
  {
   "cell_type": "code",
   "execution_count": 5,
   "metadata": {},
   "outputs": [
    {
     "name": "stdout",
     "output_type": "stream",
     "text": [
      "Evaluation of x + 3 at all x values:\n",
      "(x=0, y_interpolated=3, y_real=3)\n",
      "(x=1, y_interpolated=4, y_real=4)\n",
      "(x=2, y_interpolated=5, y_real=5)\n",
      "(x=3, y_interpolated=6, y_real=6)\n",
      "(x=4, y_interpolated=0, y_real=0)\n"
     ]
    }
   ],
   "source": [
    "GF = galois.GF(7)\n",
    "x = GF([0, 1, 2, 3, 4])\n",
    "y = GF([3, 4, 5, 6, 0])\n",
    "\n",
    "poly = lagrange_interpolation(x, y, GF)\n",
    "print(f\"Evaluation of {poly} at all x values:\")\n",
    "for i in x:\n",
    "    print(f\"(x={i}, y_interpolated={poly(i)}, y_real={y[i]})\")"
   ]
  }
 ],
 "metadata": {
  "kernelspec": {
   "display_name": "Python 3",
   "language": "python",
   "name": "python3"
  },
  "language_info": {
   "codemirror_mode": {
    "name": "ipython",
    "version": 3
   },
   "file_extension": ".py",
   "mimetype": "text/x-python",
   "name": "python",
   "nbconvert_exporter": "python",
   "pygments_lexer": "ipython3",
   "version": "3.10.4"
  },
  "orig_nbformat": 4,
  "vscode": {
   "interpreter": {
    "hash": "2ab98c4b59af728aa8bd9922870b996a7fc5861c87b81242319b92eec59b5fef"
   }
  }
 },
 "nbformat": 4,
 "nbformat_minor": 2
}
