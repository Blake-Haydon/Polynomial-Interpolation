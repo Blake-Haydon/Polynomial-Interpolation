{
 "cells": [
  {
   "cell_type": "code",
   "execution_count": 3,
   "metadata": {},
   "outputs": [],
   "source": [
    "import matplotlib.pyplot as plt\n",
    "import numpy as np"
   ]
  },
  {
   "cell_type": "code",
   "execution_count": 4,
   "metadata": {},
   "outputs": [
    {
     "data": {
      "image/png": "[encoded data removed]",
      "text/plain": [
       "<Figure size 432x288 with 1 Axes>"
      ]
     },
     "metadata": {
      "needs_background": "light"
     },
     "output_type": "display_data"
    }
   ],
   "source": [
    "# We will interpolate these points\n",
    "y = [2, 5, 1, 4]\n",
    "x = [0, 2, 5, 6]\n",
    "plt.title(\"Points to interpolation\")\n",
    "plt.plot(x, y, 'ro', label='Original points')\n",
    "plt.legend()\n",
    "plt.show()"
   ]
  },
  {
   "cell_type": "markdown",
   "metadata": {},
   "source": [
    "## Matrix Lagrange Interpolation\n",
    "\n",
    "This notebook demonstrates how to use the matrix Lagrange interpolation method to interpolate a polynomial function $f(x)$ for set of points $y_0, y_1, \\ldots, y_n$ at certain positions $x_0, x_1, \\ldots, x_n$. We will use the `x` and `y` points given above as an example. Here are the points written out as function of inputs and outputs:\n",
    "\n",
    "$$\n",
    "f(0) = 2 \\newline \n",
    "f(2) = 5 \\newline\n",
    "f(5) = 1 \\newline \n",
    "f(6) = 4 \\newline \n",
    "$$\n",
    "\n",
    "### Max Interpolated Polynomial Degree\n",
    "We know that the maximum [degree](https://en.wikipedia.org/wiki/Degree_of_a_polynomial) of the interpolated function follows this pattern.\n",
    "- 2 points = linear interpolation (degree 1)\n",
    "- 3 points = quadratic interpolation (degree 2)\n",
    "- 4 points = cubic interpolation (degree 3)\n",
    "- ...\n",
    "- n points = n-1 degree interpolation\n",
    "\n",
    "\n",
    "### Interpolating Example Points\n",
    "Therefore for the given points, we will use a cubic interpolation.\n",
    "The function will look like $f(x)$ below, where $a_i$ are coefficients of the polynomial:\n",
    "\n",
    "$$\n",
    "f(x) = a_0 + a_1x + a_2x^2 + a_3x^3\n",
    "$$\n",
    "\n",
    "Inputting the given points into the function, we get the following equations: \n",
    "$$\n",
    "f(0) = 2 = a_0 + a_1(0) + a_2(0)^2 + a_3(0)^3 \\newline\n",
    "f(2) = 5 = a_0 + a_1(2) + a_2(2)^2 + a_3(2)^3 \\newline\n",
    "f(5) = 1 = a_0 + a_1(5) + a_2(5)^2 + a_3(5)^3 \\newline\n",
    "f(6) = 4 = a_0 + a_1(6) + a_2(6)^2 + a_3(6)^3 \\newline\n",
    "$$\n",
    "\n",
    "This systems of equations can be written in matrix form as follows:\n",
    "\n",
    "$$\n",
    "\\left[ {\\begin{array}{cc}\n",
    "  2 \\\\\n",
    "  5 \\\\\n",
    "  1 \\\\ \n",
    "  4 \\\\\n",
    "\\end{array} } \\right]\n",
    "=\n",
    "\\left[ {\\begin{array}{cccc}\n",
    "  1 & 0 & 0 & 0 \\\\\n",
    "  1 & 2 & 4 & 8 \\\\\n",
    "  1 & 5 & 25 & 125 \\\\\n",
    "  1 & 6 & 36 & 216 \\\\\n",
    "\\end{array} } \\right]\n",
    "\\left[ {\\begin{array}{c}\n",
    "  a_0 \\\\\n",
    "  a_1 \\\\\n",
    "  a_2 \\\\\n",
    "  a_3 \\\\\n",
    "\\end{array} } \\right]\n",
    "$$\n",
    "\n",
    "We can simplify the series of equations by completing the following steps:\n",
    "- Replace the square matrix with the [Vandermonde Matrix](https://en.wikipedia.org/wiki/Vandermonde_matrix) $V(\\bm{x})$ for the `x` points.\n",
    "- Rename the column matrix containing $a_i$ elements $\\bm{a}$.\n",
    "- Rename the function output column matrix $\\bm{y}$\n",
    "\n",
    "Thus, the simplified equation is:\n",
    "$$\\bm{y}=V(\\bm{x})\\bm{a}$$\n",
    "\n",
    "### Solving for $\\bm{a}$\n",
    "We can solve for $\\bm{a}$ by using the [matrix inverse](https://en.wikipedia.org/wiki/Invertible_matrix) of the Vandermonde matrix $V(\\bm{x})$. \n",
    "This yields the equation $\\bm{a}=V(\\bm{x})^{-1}\\bm{y}$ which is trivial to solve. \n",
    "Otherwise we can just use the [numpy.linalg.solve](https://docs.scipy.org/doc/numpy/reference/generated/numpy.linalg.solve.html) function.\n",
    "Using either method we get the following coefficients for the polynomial function:     \n",
    "\n",
    "$$\n",
    "\\bm{a} = \\left[ {\\begin{array}{c}\n",
    "  0.28 \\\\\n",
    "  -2.49 \\\\\n",
    "  5.38 \\\\\n",
    "  2.00 \\\\\n",
    "\\end{array} } \\right]\n",
    "$$\n",
    "\n",
    "Therefore the interpolated function is:\n",
    "\n",
    "$$\n",
    "f(x) = 0.28 - 2.49x + 5.38x^2 + 2.00x^3\n",
    "$$\n",
    "\n",
    "\n"
   ]
  },
  {
   "cell_type": "code",
   "execution_count": 29,
   "metadata": {},
   "outputs": [
    {
     "name": "stdout",
     "output_type": "stream",
     "text": [
      "Vandermonde Matrix = V(x) = \n",
      " [[  0   0   0   1]\n",
      " [  8   4   2   1]\n",
      " [125  25   5   1]\n",
      " [216  36   6   1]]\n",
      "a = \n",
      " [ 0.275      -2.49166667  5.38333333  2.        ]\n"
     ]
    },
    {
     "data": {
      "image/png": "[encoded data removed]",
      "text/plain": [
       "<Figure size 432x288 with 1 Axes>"
      ]
     },
     "metadata": {
      "needs_background": "light"
     },
     "output_type": "display_data"
    }
   ],
   "source": [
    "# Generate the Vandermonde matrix\n",
    "V_x = np.vander(x, 4)\n",
    "print(\"Vandermonde Matrix = V(x) = \\n\", V_x)\n",
    "\n",
    "# We need to solve the system of equations\n",
    "# y = V(x) * a \n",
    "a = np.linalg.solve(V_x, y)\n",
    "print(\"a = \\n\", a)\n",
    "\n",
    "x_new = np.linspace(0, 6, 100)\n",
    "y_new = np.polyval(a, x_new)\n",
    "\n",
    "plt.title(\"Polynomial Interpolation using the Lagrange method\")\n",
    "plt.plot(x, y, 'ro', label='Original points')\n",
    "plt.plot(x_new, y_new, label='Interpolation')\n",
    "plt.legend()\n",
    "plt.show()"
   ]
  }
 ],
 "metadata": {
  "kernelspec": {
   "display_name": "Python 3.10.4 64-bit",
   "language": "python",
   "name": "python3"
  },
  "language_info": {
   "codemirror_mode": {
    "name": "ipython",
    "version": 3
   },
   "file_extension": ".py",
   "mimetype": "text/x-python",
   "name": "python",
   "nbconvert_exporter": "python",
   "pygments_lexer": "ipython3",
   "version": "3.10.4"
  },
  "orig_nbformat": 4,
  "vscode": {
   "interpreter": {
    "hash": "2ab98c4b59af728aa8bd9922870b996a7fc5861c87b81242319b92eec59b5fef"
   }
  }
 },
 "nbformat": 4,
 "nbformat_minor": 2
}
