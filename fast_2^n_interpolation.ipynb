{
 "cells": [
  {
   "attachments": {},
   "cell_type": "markdown",
   "metadata": {},
   "source": [
    "# Fast Polynomial Interpolation for $2^n - 1$ Elements\n",
    "\n",
    "Over the field $F_{2^n}$\n",
    "\n",
    "**TODO: Please complete these things to finish the notebook**\n",
    "- Proof of correctness for the interpolation\n",
    "- Write better intuitive explanations of why this works"
   ]
  },
  {
   "cell_type": "code",
   "execution_count": 1,
   "metadata": {},
   "outputs": [],
   "source": [
    "import galois\n",
    "import numpy as np"
   ]
  },
  {
   "attachments": {},
   "cell_type": "markdown",
   "metadata": {},
   "source": [
    "## Intuition\n",
    "\n",
    "We can flip some of the matrix to find the inverse. The Python code below shows how this works.\n",
    "\n",
    "```python \n",
    "V[1:, 1:] = np.flip(V[1:, 1:], 0)\n",
    "```"
   ]
  },
  {
   "cell_type": "code",
   "execution_count": 2,
   "metadata": {},
   "outputs": [
    {
     "name": "stdout",
     "output_type": "stream",
     "text": [
      "[[  1,   1,   1,   1,   1,   1,   1],\n",
      " [  1,   α, α^2, α^3, α^4, α^5, α^6],\n",
      " [  1, α^2, α^4, α^6,   α, α^3, α^5],\n",
      " [  1, α^3, α^6, α^2, α^5,   α, α^4],\n",
      " [  1, α^4,   α, α^5, α^2, α^6, α^3],\n",
      " [  1, α^5, α^3,   α, α^6, α^4, α^2],\n",
      " [  1, α^6, α^5, α^4, α^3, α^2,   α]] \n",
      "\n",
      "[[  1,   1,   1,   1,   1,   1,   1],\n",
      " [  1, α^6, α^5, α^4, α^3, α^2,   α],\n",
      " [  1, α^5, α^3,   α, α^6, α^4, α^2],\n",
      " [  1, α^4,   α, α^5, α^2, α^6, α^3],\n",
      " [  1, α^3, α^6, α^2, α^5,   α, α^4],\n",
      " [  1, α^2, α^4, α^6,   α, α^3, α^5],\n",
      " [  1,   α, α^2, α^3, α^4, α^5, α^6]]\n"
     ]
    }
   ],
   "source": [
    "# Set up field parameters\n",
    "N = 2**3\n",
    "GF = galois.GF(N, display='power')\n",
    "\n",
    "# Display both the Vandermonde matrix and its inverse\n",
    "V = GF.Vandermonde(GF.primitive_element, (N - 1), (N - 1))\n",
    "print(V, '\\n')\n",
    "print(np.linalg.inv(V))"
   ]
  },
  {
   "cell_type": "code",
   "execution_count": 3,
   "metadata": {},
   "outputs": [
    {
     "name": "stdout",
     "output_type": "stream",
     "text": [
      "[[1, 1, 1, 1, 1, 1, 1],\n",
      " [1, 2, 4, 3, 6, 7, 5],\n",
      " [1, 4, 6, 5, 2, 3, 7],\n",
      " [1, 3, 5, 4, 7, 2, 6],\n",
      " [1, 6, 2, 7, 4, 5, 3],\n",
      " [1, 7, 3, 2, 5, 6, 4],\n",
      " [1, 5, 7, 6, 3, 4, 2]] \n",
      "\n",
      "[[1, 1, 1, 1, 1, 1, 1],\n",
      " [1, 5, 7, 6, 3, 4, 2],\n",
      " [1, 7, 3, 2, 5, 6, 4],\n",
      " [1, 6, 2, 7, 4, 5, 3],\n",
      " [1, 3, 5, 4, 7, 2, 6],\n",
      " [1, 4, 6, 5, 2, 3, 7],\n",
      " [1, 2, 4, 3, 6, 7, 5]]\n"
     ]
    }
   ],
   "source": [
    "# Set up field parameters\n",
    "N = 2**3\n",
    "GF = galois.GF(N, display='int')\n",
    "\n",
    "# Display both the Vandermonde matrix and its inverse\n",
    "V = GF.Vandermonde(GF.primitive_element, (N - 1), (N - 1))\n",
    "print(V, '\\n')\n",
    "print(np.linalg.inv(V))"
   ]
  },
  {
   "cell_type": "code",
   "execution_count": 4,
   "metadata": {},
   "outputs": [],
   "source": [
    "def eval_poly(poly: galois.Poly, x: int):\n",
    "    # Because the polynomial is generated from a Vandermonde matrix with a primitive element as the base of \n",
    "    # the exponent we must evaluate slightly differently.\n",
    "    return poly(poly.field.primitive_element**x)    "
   ]
  },
  {
   "cell_type": "code",
   "execution_count": 5,
   "metadata": {},
   "outputs": [],
   "source": [
    "def Vandermonde_inv(GF: galois.GF):\n",
    "    \"\"\"\n",
    "    This function calculates the inverse of the Vandermonde matrix for field GF(2^k) \n",
    "    with 2^k - 1 primitive elements used as `x` values in the matrix.\n",
    "\n",
    "    WARNING: This function is only usable up to ~GF(2^15) as any larger uses significant memory.\n",
    "\n",
    "    Parameters\n",
    "    ----------\n",
    "    k : int\n",
    "        The order of the field GF(2^k).\n",
    "    \"\"\"\n",
    "\n",
    "    assert GF.characteristic == 2, \"GF must be a field of order 2^k\"\n",
    "\n",
    "    # Because the structure of the matrix is understood, we can efficiently calculate the inverse\n",
    "    # See above for more details.\n",
    "    rows = cols = GF.order - 1\n",
    "    V_inv = GF.Vandermonde(GF.primitive_element, rows, cols)\n",
    "    V_inv[1:, 1:] = np.flip(V_inv[1:, 1:], 0)\n",
    "\n",
    "    return V_inv"
   ]
  },
  {
   "attachments": {},
   "cell_type": "markdown",
   "metadata": {},
   "source": [
    "### Example computing $V^{-1}(\\bf{x})$"
   ]
  },
  {
   "cell_type": "code",
   "execution_count": 6,
   "metadata": {},
   "outputs": [
    {
     "name": "stdout",
     "output_type": "stream",
     "text": [
      "Evaluation of 5x^6 + 4x^5 + 5x^4 + x^3 + 5x^2 + 6x + 5 at all x values:\n",
      "(x=0, y_interpolated=3, y_real=3)\n",
      "(x=1, y_interpolated=6, y_real=6)\n",
      "(x=2, y_interpolated=6, y_real=6)\n",
      "(x=3, y_interpolated=1, y_real=1)\n",
      "(x=4, y_interpolated=5, y_real=5)\n",
      "(x=5, y_interpolated=7, y_real=7)\n",
      "(x=6, y_interpolated=5, y_real=5)\n"
     ]
    }
   ],
   "source": [
    "N = 2**3\n",
    "GF = galois.GF(N)\n",
    "y = GF.Random(N - 1) # Random values to interpolate\n",
    "\n",
    "coefficients = y @ Vandermonde_inv(GF)\n",
    "poly = galois.Poly(np.flip(coefficients))\n",
    "\n",
    "print(f\"Evaluation of {poly} at all x values:\")\n",
    "for i in range(N-1):\n",
    "    assert y[i] == eval_poly(poly, i)\n",
    "    print(f\"(x={i}, y_interpolated={eval_poly(poly, i)}, y_real={y[i]})\")"
   ]
  },
  {
   "cell_type": "code",
   "execution_count": 7,
   "metadata": {},
   "outputs": [],
   "source": [
    "def iterative_interpolation(GF: galois.GF, y: galois.FieldArray):\n",
    "    # Because the structure of the matrix is understood, we can efficiently calculate the inverse\n",
    "    # See above for more details.\n",
    "\n",
    "    assert GF.characteristic == 2\n",
    "    assert len(y) == GF.order - 1\n",
    "\n",
    "    # Flip first row of the Vandermonde matrix to get the inverse as per the trick above\n",
    "    V_row_flip = GF.Vandermonde(GF.primitive_element, 2, len(y))[1]\n",
    "    V_row_flip[1:] = np.flip(V_row_flip[1:], 0)\n",
    "\n",
    "    # Calculate the coefficients of the polynomial one by one\n",
    "    # This keeps the memory usage low as we do not need the entire Vandermonde matrix\n",
    "    coefficients = GF.Zeros(len(y))\n",
    "    for i in range(len(y)):\n",
    "        coefficients[i] = V_row_flip**i @ y\n",
    "\n",
    "    return galois.Poly(np.flip(coefficients))"
   ]
  },
  {
   "attachments": {},
   "cell_type": "markdown",
   "metadata": {},
   "source": [
    "### Example computing the polynomial coefficients iteratively"
   ]
  },
  {
   "cell_type": "code",
   "execution_count": 8,
   "metadata": {},
   "outputs": [
    {
     "name": "stdout",
     "output_type": "stream",
     "text": [
      "Evaluation of 2x^6 + 3x^5 + 3x^4 + 5x^3 + 2x^2 + 3x + 6 at all x values:\n",
      "(x=0, y_interpolated=0, y_real=0)\n",
      "(x=1, y_interpolated=5, y_real=5)\n",
      "(x=2, y_interpolated=7, y_real=7)\n",
      "(x=3, y_interpolated=3, y_real=3)\n",
      "(x=4, y_interpolated=0, y_real=0)\n",
      "(x=5, y_interpolated=5, y_real=5)\n",
      "(x=6, y_interpolated=2, y_real=2)\n"
     ]
    }
   ],
   "source": [
    "N = 2**3\n",
    "GF = galois.GF(N)\n",
    "y = GF.Random(N - 1) # Random values to interpolate\n",
    "poly = iterative_interpolation(GF, y)\n",
    "\n",
    "print(f\"Evaluation of {poly} at all x values:\")\n",
    "for i in range(N-1):\n",
    "    assert y[i] == eval_poly(poly, i)\n",
    "    print(f\"(x={i}, y_interpolated={eval_poly(poly, i)}, y_real={y[i]})\")"
   ]
  },
  {
   "cell_type": "code",
   "execution_count": 9,
   "metadata": {},
   "outputs": [
    {
     "name": "stdout",
     "output_type": "stream",
     "text": [
      "Evaluation of 4x^6 + 4x^5 + 2x^4 + x^3 + 6x^2 + 4 at all x values:\n",
      "(x=0, y_interpolated=1, y_real=1)\n",
      "(x=1, y_interpolated=6, y_real=6)\n",
      "(x=2, y_interpolated=1, y_real=1)\n",
      "(x=3, y_interpolated=0, y_real=0)\n",
      "(x=4, y_interpolated=2, y_real=2)\n",
      "(x=5, y_interpolated=5, y_real=5)\n",
      "(x=6, y_interpolated=5, y_real=5)\n"
     ]
    }
   ],
   "source": [
    "def inplace_interpolation(GF: galois.GF, y: galois.FieldArray):\n",
    "    assert GF.characteristic == 2\n",
    "    assert len(y) == GF.order - 1\n",
    "\n",
    "    # Calculate the coefficients of the polynomial one by one\n",
    "    # This keeps the memory usage low as we do not need the entire Vandermonde matrix\n",
    "    N = len(y)\n",
    "    coefficients = GF.Zeros(N)\n",
    "    for i in range(N):\n",
    "        for j in range(N):\n",
    "            position = (i*j) % N\n",
    "            coefficients[i] += (GF.primitive_element)**(N - position) * y[j]\n",
    "\n",
    "    return galois.Poly(np.flip(coefficients))\n",
    "\n",
    "\n",
    "N = 2**3\n",
    "GF = galois.GF(N)\n",
    "y = GF.Random(N - 1) # Random values to interpolate\n",
    "poly = inplace_interpolation(GF, y)\n",
    "\n",
    "print(f\"Evaluation of {poly} at all x values:\")\n",
    "for i in range(N-1):\n",
    "    assert y[i] == eval_poly(poly, i)\n",
    "    print(f\"(x={i}, y_interpolated={eval_poly(poly, i)}, y_real={y[i]})\")"
   ]
  }
 ],
 "metadata": {
  "kernelspec": {
   "display_name": "Python 3",
   "language": "python",
   "name": "python3"
  },
  "language_info": {
   "codemirror_mode": {
    "name": "ipython",
    "version": 3
   },
   "file_extension": ".py",
   "mimetype": "text/x-python",
   "name": "python",
   "nbconvert_exporter": "python",
   "pygments_lexer": "ipython3",
   "version": "3.10.4"
  },
  "orig_nbformat": 4,
  "vscode": {
   "interpreter": {
    "hash": "2ab98c4b59af728aa8bd9922870b996a7fc5861c87b81242319b92eec59b5fef"
   }
  }
 },
 "nbformat": 4,
 "nbformat_minor": 2
}
