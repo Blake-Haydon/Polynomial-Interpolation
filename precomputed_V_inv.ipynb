{
 "cells": [
  {
   "cell_type": "code",
   "execution_count": 59,
   "metadata": {},
   "outputs": [],
   "source": [
    "import galois\n",
    "import numpy as np\n",
    "from os.path import exists"
   ]
  },
  {
   "cell_type": "code",
   "execution_count": 60,
   "metadata": {},
   "outputs": [],
   "source": [
    "def save_vandermonde_inv(prime: int, size: int):\n",
    "    # Create Galois field\n",
    "    GF = galois.GF(prime)\n",
    "    a = GF.primitive_element\n",
    "\n",
    "    # Create Vandermonde matrix\n",
    "    V = GF.Vandermonde(a, size, size)\n",
    "    V = np.flip(V, axis=1)\n",
    "\n",
    "    # Invert Vandermonde matrix and save to file\n",
    "    filename = f'vandermonde_inverses/V_inv_F_{prime}_size_{size}.npz'\n",
    "    np.savez_compressed(filename, V_inv=np.linalg.inv(V))\n",
    "\n",
    "def load_vandermonde_inv(prime: int, size: int):\n",
    "    # Create Galois field\n",
    "    GF = galois.GF(prime)\n",
    "    \n",
    "    # Load inverse Vandermonde matrix from file\n",
    "    filename = f'vandermonde_inverses/V_inv_F_{prime}_size_{size}.npz'\n",
    "    V_inv = np.load(filename)['V_inv']\n",
    "    return GF(V_inv)"
   ]
  },
  {
   "cell_type": "code",
   "execution_count": 61,
   "metadata": {},
   "outputs": [],
   "source": [
    "def fast_poly(y: galois.FieldArray, prime: int, size: int):\n",
    "    # Load inverse Vandermonde matrix from file\n",
    "    V_inv = load_vandermonde_inv(prime, size)\n",
    "    \n",
    "    # Compute polynomial coefficients\n",
    "    coeffs = np.matmul(V_inv, y) # TODO: change to accept any number of y vals under max_degree\n",
    "    return galois.Poly(coeffs)"
   ]
  },
  {
   "cell_type": "code",
   "execution_count": 62,
   "metadata": {},
   "outputs": [],
   "source": [
    "#### CONSTANTS ####\n",
    "prime = 2003\n",
    "size = 1500\n",
    "GF = galois.GF(prime)"
   ]
  },
  {
   "cell_type": "code",
   "execution_count": 63,
   "metadata": {},
   "outputs": [],
   "source": [
    "# Generation is very slow for large sizes (only need to do once)\n",
    "if not exists(f\"vandermonde_inverses/V_inv_F_{prime}_size_{size}.npz\"):\n",
    "    save_vandermonde_inv(prime, size)"
   ]
  },
  {
   "cell_type": "code",
   "execution_count": 64,
   "metadata": {},
   "outputs": [
    {
     "name": "stdout",
     "output_type": "stream",
     "text": [
      "949\n",
      "949\n"
     ]
    }
   ],
   "source": [
    "y = GF.Random(size)\n",
    "poly = fast_poly(y, prime, size)\n",
    "\n",
    "# Sanity check 100th element\n",
    "i = 100\n",
    "print(y[i])\n",
    "print(poly(GF.primitive_element**i))"
   ]
  }
 ],
 "metadata": {
  "kernelspec": {
   "display_name": "Python 3",
   "language": "python",
   "name": "python3"
  },
  "language_info": {
   "codemirror_mode": {
    "name": "ipython",
    "version": 3
   },
   "file_extension": ".py",
   "mimetype": "text/x-python",
   "name": "python",
   "nbconvert_exporter": "python",
   "pygments_lexer": "ipython3",
   "version": "3.10.4"
  },
  "orig_nbformat": 4,
  "vscode": {
   "interpreter": {
    "hash": "2ab98c4b59af728aa8bd9922870b996a7fc5861c87b81242319b92eec59b5fef"
   }
  }
 },
 "nbformat": 4,
 "nbformat_minor": 2
}
