{
 "cells": [
  {
   "cell_type": "code",
   "execution_count": 2,
   "metadata": {},
   "outputs": [],
   "source": [
    "import galois\n",
    "import numpy as np\n",
    "from os.path import exists"
   ]
  },
  {
   "attachments": {},
   "cell_type": "markdown",
   "metadata": {},
   "source": [
    "## Pre-Computed Inverse Vandermonde Matrix\n",
    "\n",
    "From the [previous notebook](https://github.com/Blake-Haydon/Polynomial-Interpolation/blob/main/matrix_interpolation.ipynb) we know that the inverse Vandermonde matrix can be used to find the coefficients of an interpolated polynomial. To find the coefficients we need to solve the following equation:\n",
    "\n",
    "$$\\bf{y}=V(\\bf{x})\\bf{a}$$\n",
    "\n",
    "Therefore: \n",
    "\n",
    "$$\\bf{a}=V(\\bf{x})^{-1}\\bf{y}$$\n",
    "\n",
    "### Pre-Computation Trick \n",
    "\n",
    "Ordinarily we would need to compute the inverse of the Vandermonde matrix for each set of input values $\\bf{x}$. However, if we fix the input values $\\bf{x}$ we can pre-compute the inverse Vandermonde matrix and use it to find the coefficients for any set of output values $\\bf{y}$. This is useful if we want to interpolate a large number of values with the same input values.\n",
    "\n",
    "### Example\n",
    "\n",
    "Let's say we want to interpolate the values $y_1=1$, $y_2=4$, $y_3=2$ and $y_4=6$ with the input values $x_1=1$, $x_2=2$, $x_3=3$ and $x_4=4$. We can pre-compute the inverse Vandermonde matrix for these input values and use it to find the coefficients for any set of output values.\n",
    "\n",
    "First we need to compute the inverse Vandermonde matrix:\n",
    "<!-- V_inv = np.linalg.inv(np.vander([1, 2, 3, 4], 4)) -->\n",
    "\n",
    "$$V^{-1}=\\begin{bmatrix}-0.16666667& 0.5&-0.5&0.16666667\\\\1.5&-4&3.5&-1\\\\-4.3&9.5&-7&1.83\\\\4&-6&4&-1\\end{bmatrix}$$\n",
    "\n",
    "Then we can find the coefficients for any set of output values:\n",
    "<!-- a = V_inv @ y -->\n",
    "\n",
    "$$\\bf{a}=V^{-1}\\bf{y}=\\begin{bmatrix}1.83\\\\-13.5\\\\30.6\\\\-18\\end{bmatrix}$$"
   ]
  },
  {
   "cell_type": "code",
   "execution_count": 11,
   "metadata": {},
   "outputs": [
    {
     "data": {
      "text/plain": [
       "4.0"
      ]
     },
     "execution_count": 11,
     "metadata": {},
     "output_type": "execute_result"
    }
   ],
   "source": [
    "# Example code for precomputing the inverse of the Vandermonde matrix\n",
    "V = np.vander([1, 2, 3, 4])\n",
    "V_inv = np.linalg.inv(V)\n",
    "y = np.array([1, 4, 2, 6])\n",
    "a = V_inv @ y\n",
    "\n",
    "# Find value at x=2, should be 4\n",
    "np.polyval(a, 2)"
   ]
  },
  {
   "cell_type": "code",
   "execution_count": 4,
   "metadata": {},
   "outputs": [],
   "source": [
    "def save_vandermonde_inv(prime: int, size: int):\n",
    "    # Create Galois field\n",
    "    GF = galois.GF(prime)\n",
    "    a = GF.primitive_element\n",
    "\n",
    "    # Create Vandermonde matrix\n",
    "    V = GF.Vandermonde(a, size, size)\n",
    "    V = np.flip(V, axis=1)\n",
    "\n",
    "    # Invert Vandermonde matrix and save to file\n",
    "    filename = f'vandermonde_inverses/V_inv_F_{prime}_size_{size}.npz'\n",
    "    np.savez_compressed(filename, V_inv=np.linalg.inv(V))\n",
    "\n",
    "def load_vandermonde_inv(prime: int, size: int):\n",
    "    # Create Galois field\n",
    "    GF = galois.GF(prime)\n",
    "    \n",
    "    # Load inverse Vandermonde matrix from file\n",
    "    filename = f'vandermonde_inverses/V_inv_F_{prime}_size_{size}.npz'\n",
    "    V_inv = np.load(filename)['V_inv']\n",
    "    return GF(V_inv)"
   ]
  },
  {
   "cell_type": "code",
   "execution_count": 5,
   "metadata": {},
   "outputs": [],
   "source": [
    "def fast_poly(y: galois.FieldArray, prime: int, size: int):\n",
    "    # Load inverse Vandermonde matrix from file\n",
    "    V_inv = load_vandermonde_inv(prime, size)\n",
    "    \n",
    "    # Compute polynomial coefficients\n",
    "    coeffs = np.matmul(V_inv, y)\n",
    "    return galois.Poly(coeffs)\n",
    "\n",
    "def eval_poly(poly: galois.Poly, x: int):\n",
    "    # Because the polynomial is generated from a Vandermonde matrix with a primitive element as the base of \n",
    "    # the exponent we must evaluate slightly differently.\n",
    "    return poly(poly.field.primitive_element**x)"
   ]
  },
  {
   "cell_type": "code",
   "execution_count": 6,
   "metadata": {},
   "outputs": [],
   "source": [
    "#### CONSTANTS ####\n",
    "# The following constants are already generated and therefore are very fast to compute\n",
    "prime = 5003 # prime field size\n",
    "size = 5000  # max degree of polynomial\n",
    "\n",
    "GF = galois.GF(prime)"
   ]
  },
  {
   "cell_type": "code",
   "execution_count": 7,
   "metadata": {},
   "outputs": [],
   "source": [
    "# Generation is very slow for large sizes (only need to do once)\n",
    "if not exists(f\"vandermonde_inverses/V_inv_F_{prime}_size_{size}.npz\"):\n",
    "    save_vandermonde_inv(prime, size)"
   ]
  },
  {
   "cell_type": "code",
   "execution_count": 8,
   "metadata": {},
   "outputs": [
    {
     "name": "stdout",
     "output_type": "stream",
     "text": [
      "From original random `y` input: 3027\n",
      "From interpolated polynomial: 3027\n"
     ]
    }
   ],
   "source": [
    "y = GF.Random(size) # Random values to interpolate\n",
    "poly = fast_poly(y, prime, size)\n",
    "\n",
    "# Sanity check 100th element\n",
    "i = 100\n",
    "print(\"From original random `y` input:\", y[i])\n",
    "print(\"From interpolated polynomial:\", eval_poly(poly, i))"
   ]
  }
 ],
 "metadata": {
  "kernelspec": {
   "display_name": "Python 3",
   "language": "python",
   "name": "python3"
  },
  "language_info": {
   "codemirror_mode": {
    "name": "ipython",
    "version": 3
   },
   "file_extension": ".py",
   "mimetype": "text/x-python",
   "name": "python",
   "nbconvert_exporter": "python",
   "pygments_lexer": "ipython3",
   "version": "3.10.4"
  },
  "orig_nbformat": 4,
  "vscode": {
   "interpreter": {
    "hash": "2ab98c4b59af728aa8bd9922870b996a7fc5861c87b81242319b92eec59b5fef"
   }
  }
 },
 "nbformat": 4,
 "nbformat_minor": 2
}
