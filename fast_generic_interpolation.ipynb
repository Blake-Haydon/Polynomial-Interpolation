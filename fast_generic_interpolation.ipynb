{
 "cells": [
  {
   "attachments": {},
   "cell_type": "markdown",
   "metadata": {},
   "source": [
    "# Fast Interpolation for $n$ elements\n",
    "\n",
    "**Findings**:\n",
    "- The inverse Vandermonde matrix preserves the same structure as the original Vandermonde matrix. This is because the original Vandermonde matrix is a Hermitian matrix.\n",
    "- There is a one-to-one mapping between elements in the original Vandermonde matrix and the inverse Vandermonde matrix.\n",
    "  - **IMPORTANT**: I believe that this will allow for efficient computation of the inverse Vandermonde matrix as we only need to find a one-to-one map of $n$ values.\n",
    "\n",
    "TODO: Please look at research links below for more information.\n",
    "<!-- TODO: look at https://en.wikipedia.org/wiki/Hermitian_matrix#Hermitian_matrices_and_the_Frobenius_inner_product -->\n",
    "<!-- TODO: look at https://en.wikipedia.org/wiki/Hermitian_matrix -->\n",
    "<!-- TODO: look at https://en.wikipedia.org/wiki/Schnorr_group -->\n",
    "\n",
    "<!-- TODO: follows from https://en.wikipedia.org/wiki/Lagrange's_theorem_(group_theory) -->"
   ]
  },
  {
   "cell_type": "code",
   "execution_count": 2,
   "metadata": {},
   "outputs": [],
   "source": [
    "import galois\n",
    "import numpy as np"
   ]
  },
  {
   "cell_type": "code",
   "execution_count": 9,
   "metadata": {},
   "outputs": [
    {
     "name": "stdout",
     "output_type": "stream",
     "text": [
      "[[ 1,  1,  1,  1,  1,  1,  1,  1,  1,  1,  1,  1,  1,  1],\n",
      " [ 1,  4, 16,  6, 24,  9,  7, 28, 25, 13, 23,  5, 20, 22],\n",
      " [ 1, 16, 24,  7, 25, 23, 20,  1, 16, 24,  7, 25, 23, 20],\n",
      " [ 1,  6,  7, 13, 20,  4, 24, 28, 23, 22, 16,  9, 25,  5],\n",
      " [ 1, 24, 25, 20, 16,  7, 23,  1, 24, 25, 20, 16,  7, 23],\n",
      " [ 1,  9, 23,  4,  7,  5, 16, 28, 20,  6, 25, 22, 24, 13],\n",
      " [ 1,  7, 20, 24, 23, 16, 25,  1,  7, 20, 24, 23, 16, 25],\n",
      " [ 1, 28,  1, 28,  1, 28,  1, 28,  1, 28,  1, 28,  1, 28],\n",
      " [ 1, 25, 16, 23, 24, 20,  7,  1, 25, 16, 23, 24, 20,  7],\n",
      " [ 1, 13, 24, 22, 25,  6, 20, 28, 16,  5,  7,  4, 23,  9],\n",
      " [ 1, 23,  7, 16, 20, 25, 24,  1, 23,  7, 16, 20, 25, 24],\n",
      " [ 1,  5, 25,  9, 16, 22, 23, 28, 24,  4, 20, 13,  7,  6],\n",
      " [ 1, 20, 23, 25,  7, 24, 16,  1, 20, 23, 25,  7, 24, 16],\n",
      " [ 1, 22, 20,  5, 23, 13, 25, 28,  7,  9, 24,  6, 16,  4]]\n",
      "[[27, 27, 27, 27, 27, 27, 27, 27, 27, 27, 27, 27, 27, 27],\n",
      " [27, 14, 18, 19, 12,  3,  8,  2, 15, 11, 10, 17, 26, 21],\n",
      " [27, 18, 12,  8, 15, 10, 26, 27, 18, 12,  8, 15, 10, 26],\n",
      " [27, 19,  8, 11, 26, 14, 12,  2, 10, 21, 18,  3, 15, 17],\n",
      " [27, 12, 15, 26, 18,  8, 10, 27, 12, 15, 26, 18,  8, 10],\n",
      " [27,  3, 10, 14,  8, 17, 18,  2, 26, 19, 15, 21, 12, 11],\n",
      " [27,  8, 26, 12, 10, 18, 15, 27,  8, 26, 12, 10, 18, 15],\n",
      " [27,  2, 27,  2, 27,  2, 27,  2, 27,  2, 27,  2, 27,  2],\n",
      " [27, 15, 18, 10, 12, 26,  8, 27, 15, 18, 10, 12, 26,  8],\n",
      " [27, 11, 12, 21, 15, 19, 26,  2, 18, 17,  8, 14, 10,  3],\n",
      " [27, 10,  8, 18, 26, 15, 12, 27, 10,  8, 18, 26, 15, 12],\n",
      " [27, 17, 15,  3, 18, 21, 10,  2, 12, 14, 26, 11,  8, 19],\n",
      " [27, 26, 10, 15,  8, 12, 18, 27, 26, 10, 15,  8, 12, 18],\n",
      " [27, 21, 26, 17, 10, 11, 15,  2,  8,  3, 12, 19, 18, 14]]\n"
     ]
    }
   ],
   "source": [
    "# EXPERIMENTAL ZONE\n",
    "\n",
    "N = 29\n",
    "GF = galois.GF(N, display='int')\n",
    "\n",
    "n = 2\n",
    "V = GF.Vandermonde(n * GF.primitive_element, (N - 1)//n, (N - 1)//n)\n",
    "\n",
    "print(V)\n",
    "print(np.linalg.inv(V))"
   ]
  },
  {
   "cell_type": "code",
   "execution_count": 5,
   "metadata": {},
   "outputs": [],
   "source": [
    "def eval_poly(poly: galois.Poly, x: int):\n",
    "    # Because the polynomial is generated from a Vandermonde matrix with a primitive element as the base of \n",
    "    # the exponent we must evaluate slightly differently.\n",
    "    return poly(poly.field.primitive_element**x)"
   ]
  }
 ],
 "metadata": {
  "kernelspec": {
   "display_name": "Python 3",
   "language": "python",
   "name": "python3"
  },
  "language_info": {
   "codemirror_mode": {
    "name": "ipython",
    "version": 3
   },
   "file_extension": ".py",
   "mimetype": "text/x-python",
   "name": "python",
   "nbconvert_exporter": "python",
   "pygments_lexer": "ipython3",
   "version": "3.10.4"
  },
  "orig_nbformat": 4,
  "vscode": {
   "interpreter": {
    "hash": "2ab98c4b59af728aa8bd9922870b996a7fc5861c87b81242319b92eec59b5fef"
   }
  }
 },
 "nbformat": 4,
 "nbformat_minor": 2
}
