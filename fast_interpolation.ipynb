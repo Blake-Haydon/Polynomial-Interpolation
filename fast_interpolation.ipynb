{
 "cells": [
  {
   "attachments": {},
   "cell_type": "markdown",
   "metadata": {},
   "source": [
    "# Fast Interpolation\n",
    "\n",
    "TODO: please look at research links below\n",
    "<!-- TODO: look at https://en.wikipedia.org/wiki/Hermitian_matrix#Hermitian_matrices_and_the_Frobenius_inner_product -->\n",
    "<!-- TODO: look athttps://en.wikipedia.org/wiki/Hermitian_matrix -->"
   ]
  },
  {
   "cell_type": "code",
   "execution_count": 1,
   "metadata": {},
   "outputs": [],
   "source": [
    "import galois\n",
    "import numpy as np\n",
    "from tqdm.notebook import tqdm"
   ]
  },
  {
   "cell_type": "code",
   "execution_count": 2,
   "metadata": {},
   "outputs": [
    {
     "name": "stdout",
     "output_type": "stream",
     "text": [
      "[[1, 1, 1, 1, 1, 1, 1],\n",
      " [1, 2, 4, 3, 6, 7, 5],\n",
      " [1, 4, 6, 5, 2, 3, 7],\n",
      " [1, 3, 5, 4, 7, 2, 6],\n",
      " [1, 6, 2, 7, 4, 5, 3],\n",
      " [1, 7, 3, 2, 5, 6, 4],\n",
      " [1, 5, 7, 6, 3, 4, 2]] \n",
      "\n",
      "[[1, 1, 1, 1, 1, 1, 1],\n",
      " [1, 5, 7, 6, 3, 4, 2],\n",
      " [1, 7, 3, 2, 5, 6, 4],\n",
      " [1, 6, 2, 7, 4, 5, 3],\n",
      " [1, 3, 5, 4, 7, 2, 6],\n",
      " [1, 4, 6, 5, 2, 3, 7],\n",
      " [1, 2, 4, 3, 6, 7, 5]]\n"
     ]
    }
   ],
   "source": [
    "# INTUITION\n",
    "\n",
    "N = 2**3\n",
    "GF = galois.GF(N, display='int')\n",
    "\n",
    "V = GF.Vandermonde(GF.primitive_element, N - 1, N - 1)\n",
    "print(V, '\\n')\n",
    "print(np.linalg.inv(V))\n",
    "\n",
    "# Essentially we can flip to find the inverse\n",
    "# Important line -----> V[1:, 1:] = np.flip(V[1:, 1:], 0)\n"
   ]
  },
  {
   "cell_type": "code",
   "execution_count": 3,
   "metadata": {},
   "outputs": [],
   "source": [
    "def eval_poly(poly: galois.Poly, x: galois.FieldArray):\n",
    "    # Because the polynomial is generated from a Vandermonde matrix with a primitive element as the base of \n",
    "    # the exponent we must evaluate slightly differently.\n",
    "    return poly(poly.field.primitive_element**x)"
   ]
  },
  {
   "cell_type": "code",
   "execution_count": 4,
   "metadata": {},
   "outputs": [],
   "source": [
    "def Vandermonde_inv(GF: galois.GF):\n",
    "    \"\"\"\n",
    "    This function calculates the inverse of the Vandermonde matrix for field GF(2^k) \n",
    "    with 2^k - 1 primitive elements used as `x` values in the matrix.\n",
    "\n",
    "    WARNING: This function is only usable up to ~GF(2^15) as any larger uses too much memory.\n",
    "\n",
    "    TODO: explain in simpler / better terms...\n",
    "\n",
    "    Parameters\n",
    "    ----------\n",
    "    k : int\n",
    "        The order of the field GF(2^k).\n",
    "    \"\"\"\n",
    "\n",
    "    assert GF.characteristic == 2, \"GF must be a field of order 2^k\"\n",
    "\n",
    "    # Because the structure of the matrix is understood, we can efficiently calculate the inverse\n",
    "    # See above for more details.\n",
    "    rows = cols = GF.order - 1\n",
    "    V_inv = GF.Vandermonde(GF.primitive_element, rows, cols)\n",
    "    V_inv[1:, 1:] = np.flip(V_inv[1:, 1:], 0)\n",
    "\n",
    "    return V_inv"
   ]
  },
  {
   "cell_type": "code",
   "execution_count": 5,
   "metadata": {},
   "outputs": [
    {
     "name": "stdout",
     "output_type": "stream",
     "text": [
      "Evaluation of 7x^6 + 4x^5 + 4x^4 + x^3 + 2x^2 + 4x + 6 at all x values:\n",
      "(x=0, y_interpolated=6, y_real=6)\n",
      "(x=1, y_interpolated=7, y_real=7)\n",
      "(x=2, y_interpolated=5, y_real=5)\n",
      "(x=3, y_interpolated=2, y_real=2)\n",
      "(x=4, y_interpolated=6, y_real=6)\n",
      "(x=5, y_interpolated=5, y_real=5)\n",
      "(x=6, y_interpolated=3, y_real=3)\n"
     ]
    }
   ],
   "source": [
    "GF = galois.GF(2**3)\n",
    "y = GF.Random(N - 1) # Random values to interpolate\n",
    "\n",
    "coefficients = y @ Vandermonde_inv(GF)\n",
    "poly = galois.Poly(np.flip(coefficients))\n",
    "\n",
    "print(f\"Evaluation of {poly} at all x values:\")\n",
    "for i in range(N-1):\n",
    "    assert y[i] == eval_poly(poly, i)\n",
    "    print(f\"(x={i}, y_interpolated={eval_poly(poly, i)}, y_real={y[i]})\")"
   ]
  },
  {
   "cell_type": "code",
   "execution_count": 6,
   "metadata": {},
   "outputs": [
    {
     "data": {
      "application/vnd.jupyter.widget-view+json": {
       "model_id": "6ab07aca65e5497883aa7776eb3439d3",
       "version_major": 2,
       "version_minor": 0
      },
      "text/plain": [
       "  0%|          | 0/7 [00:00<?, ?it/s]"
      ]
     },
     "metadata": {},
     "output_type": "display_data"
    },
    {
     "name": "stdout",
     "output_type": "stream",
     "text": [
      "Evaluation of 5x^6 + 7x^5 + x^3 + 7x + 3 at all x values:\n",
      "(x=0, y_interpolated=7, y_real=7)\n",
      "(x=1, y_interpolated=1, y_real=1)\n",
      "(x=2, y_interpolated=3, y_real=3)\n",
      "(x=3, y_interpolated=3, y_real=3)\n",
      "(x=4, y_interpolated=2, y_real=2)\n",
      "(x=5, y_interpolated=4, y_real=4)\n",
      "(x=6, y_interpolated=3, y_real=3)\n"
     ]
    }
   ],
   "source": [
    "def iterative_interpolation(GF: galois.GF, y: galois.FieldArray):\n",
    "    # Because the structure of the matrix is understood, we can efficiently calculate the inverse\n",
    "    # See above for more details.\n",
    "\n",
    "    assert GF.characteristic == 2\n",
    "    assert len(y) == GF.order - 1\n",
    "\n",
    "    # Flip first row of the Vandermonde matrix to get the inverse as per the trick above\n",
    "    V_row_flip = GF.Vandermonde(GF.primitive_element, 2, len(y))[1]\n",
    "    V_row_flip[1:] = np.flip(V_row_flip[1:], 0)\n",
    "\n",
    "    # Calculate the coefficients of the polynomial one by one\n",
    "    # This keeps the memory usage low as we do not need the entire Vandermonde matrix\n",
    "    coefficients = GF.Zeros(len(y))\n",
    "    for i in tqdm(range(len(y))):\n",
    "        coefficients[i] = V_row_flip**i @ y\n",
    "\n",
    "    return galois.Poly(np.flip(coefficients))\n",
    "\n",
    "N = 2**3\n",
    "GF = galois.GF(N)\n",
    "y = GF.Random(N - 1) # Random values to interpolate\n",
    "poly = iterative_interpolation(GF, y)\n",
    "\n",
    "print(f\"Evaluation of {poly} at all x values:\")\n",
    "for i in range(N-1):\n",
    "    assert y[i] == eval_poly(poly, i)\n",
    "    print(f\"(x={i}, y_interpolated={eval_poly(poly, i)}, y_real={y[i]})\")"
   ]
  },
  {
   "cell_type": "code",
   "execution_count": 7,
   "metadata": {},
   "outputs": [
    {
     "data": {
      "application/vnd.jupyter.widget-view+json": {
       "model_id": "d250a49d370040828eaa3fd2c567199d",
       "version_major": 2,
       "version_minor": 0
      },
      "text/plain": [
       "  0%|          | 0/32767 [00:00<?, ?it/s]"
      ]
     },
     "metadata": {},
     "output_type": "display_data"
    }
   ],
   "source": [
    "N = 2**15  # goal 2**19\n",
    "GF = galois.GF(N, display='int')\n",
    "y = GF.Random(N - 1) # Random values to interpolate\n",
    "\n",
    "poly = iterative_interpolation(GF, y)"
   ]
  }
 ],
 "metadata": {
  "kernelspec": {
   "display_name": "Python 3",
   "language": "python",
   "name": "python3"
  },
  "language_info": {
   "codemirror_mode": {
    "name": "ipython",
    "version": 3
   },
   "file_extension": ".py",
   "mimetype": "text/x-python",
   "name": "python",
   "nbconvert_exporter": "python",
   "pygments_lexer": "ipython3",
   "version": "3.10.4"
  },
  "orig_nbformat": 4,
  "vscode": {
   "interpreter": {
    "hash": "2ab98c4b59af728aa8bd9922870b996a7fc5861c87b81242319b92eec59b5fef"
   }
  }
 },
 "nbformat": 4,
 "nbformat_minor": 2
}
